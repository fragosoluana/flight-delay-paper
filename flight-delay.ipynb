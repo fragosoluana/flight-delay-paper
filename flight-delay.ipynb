{
 "cells": [
  {
   "cell_type": "markdown",
   "metadata": {},
   "source": [
    "# Flight Delay Propagation Code"
    
    "This .ipynb file summarizes the code used on the *Flight Delay Propagation Using Frequent Patterns* paper. Some alterations
    were made to the original code to improve understanding. We will highlight these alterations.
    
    "## Definitions"
    
    "**Delays** are departures after scheduled time as registered by ANAC and/or cancelled flights. Note that we are analyzing no arrival
    delays.
    "**Delay propagation**, presumes that a delay has already occurred at some point of the airport network. Specifically, we analyze 
    delays in other airports when an inicial flight delay occurs somewhere.  This time difference is the propagation delay or 
    **propagation time**; it is sustained over a certain period of time, as long as delays occur in other airports.
     " If a delay initiates at *SBGL* airport at 10am and it propagates to *SBGR* at 11am, the propagation time is 1 hour because *SBGR* 
    is affected by the delay from *SBGL* 1 hour later.
    
    "**Destination airport** is any airport *B* which has a route departing from any airport *A*.
    
    "## Database",
    
    "The database used in this work is from National Civil Aviation Agency (ANAC) which is responsible for storing the operational data
    of the Brazilian air system, such as scheduled and actual departure times, and as a consequence, keeps record of all delays.
    We used its database, VRA (ANAC, 2015), from 2009 to 2015 to perform this research. 2009 was chosen as the initial year because 
    big companies such as TAM, Gol, Avianca and Azul started operating this year. In addition, we took into account data from the 17\n
    main Brazilian airports."
    
   ]   
  },
  {
   "cell_type": "markdown",
   "metadata": {},
   "source": [
    "## Data Mining Process",
    
    "The data mining process used in this work is composed of four main parts: 
    
    "- Data Transformation ",
    "- Sliding Window Materialization",
    "- Rule Generation ",
    "- Rule Analysis",
    
    "Only rule generation and analysis code are presented in this notebook. The other bullets were executed on postgres and,
    therefore, cannot be run here. However, explanations for each part are presented ahead.
    
    "The first step was meant to transform the VRA database to aggregate the flights by hourly interval.
    
    "The next action built the sliding window for each airport. Since we selected the 17 main Brazilian airports,  17 sliding
    windows were produced. In short, a sliding window stores the data within the fixed time size of up to 5 hours. This makes
    possible to analyze the delay propagation after 5 hours from beginning. It was set as 5 hours because the largest route in
    the VRA database lasts about 4 hours, SBGL → SBEG. Thus, we added 1 hour in this route duration to give time for a delay
    to propagates between these two airports. Also, only the destination airports and the delay propagations bigger than the
    duration of their routes were considered to build the sliding window. Satisfying these constraints, our sliding window values
    correspond to delay percentages at a given airport along with the propagation time. The resulting 17 sliding windows were
    saved on github."
   ]
  },
  {
   "cell_type": "markdown",
   "metadata": {},
   "source": [
    "## Load Library Function"
    
    "The first job in our code is  checking if the necessary libraries are installed. If not, this function installs and loads them:"
   ]
  },
  {
   "cell_type": "code",
   "execution_count": 4,
   "metadata": {
    "collapsed": true
   },
   "outputs": [],
   "source": [
    "loadlibrary <- function(x)\n",
    "{\n",
    "  if (!require(x,character.only = TRUE))\n",
    "  {\n",
    "    install.packages(x, repos='http://cran.us.r-project.org', dep=TRUE)\n",
    "    if(!require(x,character.only = TRUE)) stop(\"Package not found\")\n",
    "  }\n",
    "}"
   ]
  },
  {
   "cell_type": "markdown",
   "metadata": {},
   "source": [
    "We need the following libraries:\n",
    "\n",
    "- **arules**: to run the association rules using the apriori technique\n",
    "- **sqldf**: to use sql sintax on date frames\n",
    "- **httr**: to make requestings through connections\n",
    "- **stringr**: to use regular expression"
   ]
  },
  {
   "cell_type": "code",
   "execution_count": 5,
   "metadata": {},
   "outputs": [
    {
     "name": "stderr",
     "output_type": "stream",
     "text": [
      "Loading required package: arules\n",
      "Loading required package: Matrix\n",
      "\n",
      "Attaching package: ‘arules’\n",
      "\n",
      "The following objects are masked from ‘package:base’:\n",
      "\n",
      "    abbreviate, write\n",
      "\n",
      "Loading required package: sqldf\n",
      "Loading required package: gsubfn\n",
      "Loading required package: proto\n",
      "Loading required package: RSQLite\n",
      "Loading required package: DBI\n",
      "Loading required package: httr\n",
      "Loading required package: stringr\n"
     ]
    }
   ],
   "source": [
    "loadlibrary(\"arules\")\n",
    "loadlibrary(\"sqldf\")\n",
    "loadlibrary(\"httr\")\n",
    "loadlibrary(\"stringr\")"
   ]
  },
  {
   "cell_type": "markdown",
   "metadata": {},
   "source": [
    "## Initialization\n",
    "\n",
    "Although the original code runs for all aiports automatically, the code in this notebook is executed for a specific airport.
    Therefore, the following code cell refers to a specific airport value. In this case, *SBGR* airport was choosen. Also, all
    the input files needed in our code are stored on github, at the adress assigned to the *data_url* variable."
   ]
  },
  {
   "cell_type": "code",
   "execution_count": 8,
   "metadata": {
    "collapsed": true
   },
   "outputs": [],
   "source": [
    "airport <- \"SBGR\"\n",
    "data_url <- \"https://github.com/fragosoluana/flight-delay-paper/raw/master/\""
   ]
  },
  {
   "cell_type": "markdown",
   "metadata": {},
   "source": [
    "## Binning",
    
    "Binning is a technique to classify values of a set into unique labels. Instead of representing the flight delay as percentages,
    we apply this technique to represent the flight delay as low, medium and high labels. The code cells in this section show how
    we apply this technique.
    
    "The delay percentages are in \"delay_perc.RData\" file on github. Thus, a connection to github is needed to load this file."
   ]
  },
  {
   "cell_type": "code",
   "execution_count": 5,
   "metadata": {
    "collapsed": true
   },
   "outputs": [],
   "source": [
    "con <- url(paste(data_url, \"delay_perc.RData\", sep=\"\"))\n",
    "load(con)\n",
    "close(con)"
   ]
  },
  {
   "cell_type": "markdown",
   "metadata": {},
   "source": [
    "The following function, *curvature.max*, plots a graph highlighting the point (x,y) that represents the maximum curvature
    of x and y inputs.   "
   ]
  },
  {
   "cell_type": "code",
   "execution_count": 16,
   "metadata": {
    "collapsed": true
   },
   "outputs": [],
   "source": [
    "curvature.max <- function(x, y, df=3) {\n",
    "  smodel = smooth.spline(x, y, df = df)\n",
    "  curvature = predict(smodel, x = x, deriv = 2)\n",
    "  yv = max(curvature$y)\n",
    "  xv = match(yv,curvature$y)\n",
    "  plot(x, y)\n",
    "  points(x[xv], y[xv], pch=19)\n",
    "}"
   ]
  },
  {
   "cell_type": "markdown",
   "metadata": {},
   "source": [
    "The next function, *binning*, classify the dataset input *v* into *n* intervals."
   ]
  },
  {
   "cell_type": "code",
   "execution_count": 7,
   "metadata": {
    "collapsed": true
   },
   "outputs": [],
   "source": [
    "binning <- function(v, n) {\n",
    "  p <- seq(from = 0, to = 1, by = 1/n)\n",
    "  q <- unique(quantile(v, p))\n",
    "  vp <- cut(v, q, FALSE, include.lowest=TRUE)\n",
    "  m <- tapply(v, vp, mean)\n",
    "  vm <- m[vp]\n",
    "  mse <- mean( (v - vm)^2, na.rm = TRUE)\n",
    "  return (list(binning=m, bins_factor=vp, bins=vm, mse=mse))\n",
    "}"
   ]
  },
  {
   "cell_type": "markdown",
   "metadata": {},
   "source": [
    "The *bining.opt* function calculates the ideal quanity of labels (ideal binning) of a dataset *v*. In our case, the input *v* is the delay percentage and its ideal number is 4. In order to find this number, this function considers binnings with 1 to *n* labels. As default, *n* is equal to 10. After gathering all binnings results, we plot the maximum curvature in relation of all binnings labels and its means. The highlighted point in the maximum curvature graph is the ideal number of binnings."
   ]
  },
  {
   "cell_type": "code",
   "execution_count": 8,
   "metadata": {},
   "outputs": [
    {
     "data": {
      "image/png": "iVBORw0KGgoAAAANSUhEUgAAA0gAAANICAMAAADKOT/pAAAC91BMVEUAAAABAQECAgIDAwME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\nEiBASIAAIQEChAQI/D/kynhlWLT9+wAAAABJRU5ErkJggg==",
      "text/plain": [
       "plot without title"
      ]
     },
     "metadata": {},
     "output_type": "display_data"
    }
   ],
   "source": [
    "binning.opt <- function(v, n=10) {\n",
    "  z <- data.frame()\n",
    "  for (i in 1:n)\n",
    "  {\n",
    "    t <- binning(v, i)\n",
    "    newrow <- c(t$mse , i)\n",
    "    z <- rbind(z,newrow)\n",
    "  }\n",
    "  colnames(z)<-c(\"mean\",\"num\") \n",
    "  curvature.max(z$num, z$mean)\n",
    "}\n",
    "\n",
    "binning.opt(delay_perc$perc)"
   ]
  },
  {
   "cell_type": "markdown",
   "metadata": {},
   "source": [
    "The quantity of labels to represent the flight delay percentages between 0 and 1 (0% to 100%) is 4. Therefore, the interval (0% to 100%) is divided by 4, resulting in the following set: 0.00, 0.25, 0.50, 0.75 and 1.00. However, we want to classify the delay into three labels: low, medium and high. Therefore, we consider a high rate of delays when half or more of the flights are delayed. Consequently, the new delay interval rate is divided as: \n",
    "\n",
    "- Low: from 0% to 25% (exclusive) \n",
    "- Medium: from 25% to 50% (exclusive)\n",
    "- High: from 50% to 100% (inclusive)\n",
    "\n",
    "Then, we update the sliding window of the specific airport with these new labels in the following code cell:"
   ]
  },
  {
   "cell_type": "code",
   "execution_count": 13,
   "metadata": {
    "scrolled": false
   },
   "outputs": [
    {
     "name": "stdout",
     "output_type": "stream",
     "text": [
      "   sbgr_0 sbgr_1 sbgr_2 sbgr_3 sbgr_4 sbgr_5 sbkp_1 sbkp_2 sbkp_3 sbkp_4 sbkp_5\n",
      "1    high medium    low    low medium medium    low    low   high    low    low\n",
      "2  medium    low    low medium medium medium    low   high    low    low    low\n",
      "3     low    low medium medium medium   high   high    low    low    low    low\n",
      "4     low medium medium medium   high    low    low    low    low    low    low\n",
      "5  medium medium medium   high    low    low    low    low    low    low    low\n",
      "6  medium medium   high    low    low    low    low    low    low    low    low\n",
      "7  medium   high    low    low    low    low    low    low    low    low    low\n",
      "8    high    low    low    low    low    low    low    low    low    low    low\n",
      "9     low    low    low    low    low    low    low    low    low    low    low\n",
      "10    low    low    low    low    low    low    low    low    low    low    low\n",
      "11    low    low    low    low    low medium    low    low    low    low   high\n",
      "12    low    low    low    low medium    low    low    low    low   high   high\n",
      "13    low    low    low medium    low medium    low    low    low    low    low\n",
      "14    low    low medium    low medium    low    low   high   high    low    low\n",
      "15    low medium    low medium    low   high    low    low    low    low    low\n",
      "16 medium    low medium    low   high    low   high    low    low    low    low\n",
      "17    low medium    low   high    low    low    low    low    low    low    low\n",
      "18 medium    low   high    low    low    low    low    low    low    low    low\n",
      "19    low    low    low    low   high   high    low    low    low    low   high\n",
      "20    low    low    low   high   high medium    low    low    low   high    low\n",
      "   sbgl_2 sbgl_3 sbgl_4 sbgl_5 sbct_2 sbct_3 sbct_4 sbct_5 sbrj_2 sbrj_3 sbrj_4\n",
      "1  medium medium   high    low    low   high medium   high medium   high   high\n",
      "2  medium   high    low medium   high medium   high    low   high   high   high\n",
      "3    high    low medium medium medium   high    low medium   high   high   high\n",
      "4     low medium medium    low   high    low medium   high   high   high   high\n",
      "5  medium medium    low medium    low medium   high    low   high   high medium\n",
      "6  medium    low medium medium medium   high    low    low   high medium   high\n",
      "7     low medium medium medium   high    low    low   high medium   high   high\n",
      "8  medium medium medium medium    low    low   high    low   high   high    low\n",
      "9  medium medium medium medium    low   high    low medium   high    low medium\n",
      "10 medium medium medium   high   high    low medium   high    low medium medium\n",
      "11 medium medium   high   high    low medium   high    low medium medium medium\n",
      "12 medium   high   high   high medium   high    low    low medium medium   high\n",
      "13   high   high   high medium   high    low    low    low medium   high    low\n",
      "14   high   high medium    low    low    low    low    low   high    low    low\n",
      "15   high medium    low    low    low    low    low    low    low    low    low\n",
      "16 medium    low    low   high    low    low    low    low    low    low    low\n",
      "17    low    low   high   high    low    low    low    low    low    low    low\n",
      "18    low   high   high    low    low    low    low    low    low    low    low\n",
      "19    low medium   high medium    low   high    low    low    low    low    low\n",
      "20 medium   high medium    low   high    low    low    low    low    low    low\n",
      "   sbrj_5 sbcf_2 sbcf_3 sbcf_4 sbcf_5 sbfl_2 sbfl_3 sbfl_4 sbfl_5 sbvt_2 sbvt_3\n",
      "1    high    low   high    low   high medium    low    low   high    low    low\n",
      "2    high   high    low   high   high    low    low   high   high    low    low\n",
      "3    high    low   high   high   high    low   high   high   high    low    low\n",
      "4  medium   high   high   high medium   high   high   high    low    low    low\n",
      "5    high   high   high medium    low   high   high    low    low    low medium\n",
      "6    high   high medium    low    low   high    low    low    low medium    low\n",
      "7     low medium    low    low   high    low    low    low    low    low    low\n",
      "8  medium    low    low   high   high    low    low    low    low    low   high\n",
      "9  medium    low   high   high medium    low    low    low medium   high    low\n",
      "10 medium   high   high medium medium    low    low    low    low    low    low\n",
      "11   high   high medium medium   high    low medium    low    low    low    low\n",
      "12    low medium medium   high   high medium    low    low   high    low    low\n",
      "13    low medium   high   high   high    low    low   high   high    low   high\n",
      "14    low   high   high   high    low    low   high   high    low   high    low\n",
      "15    low   high   high    low    low    low    low    low    low    low    low\n",
      "16    low   high    low    low    low   high    low    low    low    low    low\n",
      "17    low    low    low    low    low    low    low    low    low    low    low\n",
      "18    low    low    low    low    low    low    low    low    low    low    low\n",
      "19    low medium    low    low    low    low   high    low    low    low    low\n",
      "20   high    low    low    low   high   high    low    low   high    low    low\n",
      "   sbvt_4 sbvt_5 sbgo_2 sbgo_3 sbgo_4 sbgo_5 sbbr_2 sbbr_3 sbbr_4 sbbr_5 sbpa_2\n",
      "1     low    low    low    low    low    low    low    low    low    low medium\n",
      "2     low    low    low   high    low    low medium medium    low    low   high\n",
      "3     low medium   high    low    low    low medium    low    low   high    low\n",
      "4  medium    low    low    low    low    low    low    low   high    low    low\n",
      "5     low    low    low    low   high    low    low   high    low    low medium\n",
      "6     low   high    low   high    low    low   high    low    low    low medium\n",
      "7    high    low   high    low    low   high    low    low    low    low medium\n",
      "8     low    low    low    low   high    low    low    low    low medium    low\n",
      "9     low    low    low   high    low    low    low    low medium   high    low\n",
      "10    low    low    low    low    low    low    low medium   high medium   high\n",
      "11    low   high    low    low medium    low medium   high medium   high    low\n",
      "12   high    low    low medium    low    low   high medium   high   high    low\n",
      "13    low    low medium    low    low   high medium   high   high    low medium\n",
      "14    low    low    low    low   high    low   high   high    low    low   high\n",
      "15    low    low    low   high    low    low   high    low    low    low   high\n",
      "16    low    low    low    low    low    low    low    low    low    low   high\n",
      "17    low    low    low    low    low    low    low    low    low    low    low\n",
      "18    low    low    low    low    low    low    low    low    low    low    low\n",
      "19   high    low    low    low    low    low    low    low    low    low   high\n",
      "20    low    low    low medium    low   high medium   high    low medium    low\n",
      "   sbpa_3 sbpa_4 sbpa_5 sbsv_3 sbsv_4 sbsv_5 sbrf_4 sbrf_5 sbfz_4 sbfz_5 sbbe_4\n",
      "1    high    low    low medium medium    low    low   high   high    low    low\n",
      "2     low    low medium medium    low   high   high   high    low    low    low\n",
      "3     low medium medium    low    low    low   high    low    low   high    low\n",
      "4  medium medium medium   high medium   high    low    low    low    low    low\n",
      "5  medium medium    low medium   high    low    low    low    low    low    low\n",
      "6  medium    low    low   high    low    low   high    low    low    low    low\n",
      "7     low    low   high    low    low medium    low   high   high    low medium\n",
      "8     low   high    low    low medium medium   high    low    low   high    low\n",
      "9    high    low    low medium medium    low    low   high   high    low    low\n",
      "10    low    low medium medium    low   high   high    low    low   high    low\n",
      "11    low medium   high    low   high    low    low    low   high    low    low\n",
      "12 medium   high   high   high    low    low    low    low    low    low    low\n",
      "13   high   high   high    low    low    low    low    low    low    low   high\n",
      "14   high   high    low    low    low    low    low   high    low    low    low\n",
      "15   high    low    low    low    low    low   high    low    low    low    low\n",
      "16    low    low    low    low    low    low    low    low    low    low    low\n",
      "17    low    low    low    low    low    low    low    low    low    low    low\n",
      "18    low    low    low    low    low    low    low    low    low    low    low\n",
      "19    low medium   high    low    low    low    low    low   high    low    low\n",
      "20 medium   high medium    low    low    low    low medium    low    low    low\n",
      "   sbbe_5 sbeg_4 sbeg_5\n",
      "1     low    low    low\n",
      "2     low    low    low\n",
      "3     low    low    low\n",
      "4     low    low    low\n",
      "5     low    low    low\n",
      "6  medium    low    low\n",
      "7     low    low    low\n",
      "8     low    low    low\n",
      "9     low    low    low\n",
      "10    low    low    low\n",
      "11    low    low    low\n",
      "12    low    low    low\n",
      "13    low    low    low\n",
      "14    low    low    low\n",
      "15    low    low    low\n",
      "16    low    low    low\n",
      "17    low    low    low\n",
      "18    low    low    low\n",
      "19    low    low    low\n",
      "20    low    low    low\n"
     ]
    }
   ],
   "source": [
    "con <- url(paste(paste(data_url, \"windows_perc/\", sep=\"\"), paste(airport, \".RData\", sep=\"\"), sep=\"\"))\n",
    "load(con)\n",
    "w_out_p <- data.frame(w_out_p)\n",
    "\n",
    "w_out <- ifelse(w_out_p[,2:length(w_out_p)]>=0 & \n",
    "                w_out_p[,2:length(w_out_p)]<0.25, \"low\",\n",
    "         ifelse(w_out_p[,2:length(w_out_p)]>=0.25 & \n",
    "                w_out_p[,2:length(w_out_p)]<0.5, \"medium\",      \n",
    "         ifelse(w_out_p[,2:length(w_out_p)]>=0.5, \"high\",\"NA\")))\n",
    "\n",
    "w_out <- data.frame(w_out)\n",
    "\n",
    "print(sqldf(\"SELECT * FROM w_out LIMIT 20\"))"
   ]
  },
  {
   "cell_type": "markdown",
   "metadata": {},
   "source": [
    "We updated this values for all airport windows and saved them on github."
   ]
  },
  {
   "cell_type": "markdown",
   "metadata": {},
   "source": [
    "## Association Rules",
    
    "Association rules are frequent relations between items in a dataset. These rules can be generated by defining
    "a minimum support and confidence. Once the rules are generated, we must know how much these items are correlated,
    using the lift. In addition, we apply a filtration to these rules because we are interested only in rules with a high rate
    of delays and with a lift greater than 1."
   ]
  },
  {
   "cell_type": "markdown",
   "metadata": {},
   "source": [
    "### Filter Association Rules",
    
    "We apply a filtration to preserve only the rules we are interested in. In our study, we look for rules that have
    a lift greater than 1 and a high intensity of delays. This filtering can be found in the following cell:"
   ]
  },
  {
   "cell_type": "code",
   "execution_count": 6,
   "metadata": {
    "collapsed": true
   },
   "outputs": [],
   "source": [
    "filter.rules <- function(d_rules) {\n",
    "  d_rules <- sqldf('SELECT * \n",
    "                   FROM d_rules \n",
    "                   WHERE lift > 1\n",
    "                   AND d_intensity = \"high\" AND a_intensity = \"high\"\n",
    "                   ORDER BY lift desc')\n",
    "  \n",
    "  \n",
    "  return(d_rules)\n",
    "}"
   ]
  },
  {
   "cell_type": "markdown",
   "metadata": {},
   "source": [
    "### Confidence"
    
    "Confidence can be interpreted as a conditional probability. An interesting association rule must have its confidence greater
    than the minimum pre-established confidence. We define this minimum confidence as 25% because it is the minimum interval of the
    delay interval rate. Therefore, we can ensure that delays with higher rates will be considered on the rule generation."
   ]
  },
  {
   "cell_type": "markdown",
   "metadata": {},
   "source": [
    "### Support"
    
    "Support is the frequency (probability) that an item appears in the dataset. As with confidence, an interesting association 
    rule must satisfy the minimum pre-established support. The support value in this paper is determined by the maximum curvature
    in relation to the number of rules a support between 1% to 10% can generate.
    
    "Since our total dataset is the union of each window, we need these files as input to calculate the total number of rules for
    each support value. Thus, a connection to github to get all the sliding windows files is executed in the next cell."
   ]
  },
  {
   "cell_type": "code",
   "execution_count": 14,
   "metadata": {
    "collapsed": true
   },
   "outputs": [],
   "source": [
    "req <- GET(\"https://api.github.com/repos/fragosoluana/flight-delay-paper/git/trees/master?recursive=1\")\n",
    "stop_for_status(req)\n",
    "filelist <- unlist(lapply(content(req)$tree, \"[\", \"path\"), use.names = F)\n",
    "files <- grep(\"windows/\", filelist, value = TRUE, fixed = TRUE)"
   ]
  },
  {
   "cell_type": "markdown",
   "metadata": {},
   "source": [
    "The function in the following code cell, *qtd.rules*, returns the total number of rules for each support value, which is
    within the interval [1,x]. The variable *x* is the input of the *qtd.rules* function and represents the maximum support value
   we are considering. Therefore, for each support value from 1 to x, the number of rules resulted for each airport sliding window
   is added and stored so that we can return the total number of rules of our whole dataset for each support value.
    
    "To generate the rules, the algorithm apriori is used. Since we already know the confidence value, it is used to restrict
   the rules. Also, the minimum and maximum length of the rules is settled as two because we only want rules that have only one
   aiport in the left hand side of the rules as well as in the right hand side. Therefore, we can explain a delay that starts
   in an airport (left one) and propagates this delay to another aiport (right one). In addition, we are only interested in rules
   with high delay rates in both side. Nevertheless, we just restrict the left hand side with high delay rate because it is
   simpler than restrict both sides. Therefore, we also filter the rules to have high delay rates on the right hand side."
   ]
  },
  {
   "cell_type": "code",
   "execution_count": 23,
   "metadata": {
    "collapsed": true
   },
   "outputs": [],
   "source": [
    "qtd.rules <- function(x) {\n",
    "  n_rules <- c()\n",
    "  \n",
    "  for(j in x[1]:length(x)) {\n",
    "    total <- 0\n",
    "    sup <- x[j]/100\n",
    "    \n",
    "    for (i in seq_along(files)) {\n",
    "      con <- url(paste(data_url, files[i], sep=\"\"))\n",
    "      load(con)\n",
    "      w_out <- data.frame(w_out)\n",
    "      \n",
    "      c_names <- colnames(w_out, do.NULL = TRUE)\n",
    "      high <- paste(c_names[1], \"=high\", sep=\"\")\n",
    "      \n",
    "      r_out <- apriori(w_out, parameter=list(supp = sup, conf = 0.25, minlen=2, maxlen= 2,target = \"rules\"), \n",
    "                       appearance=list(lhs = c(high), default=\"rhs\"), control=list(verbose=FALSE))\n",
    "      \n",
    "      r_out <- as(r_out, \"data.frame\")\n",
    "      re <- str_match(r_out$rules, \".(sb..)_.=(.*)......(sb..)_(.)=(.*).\")\n",
    "  \n",
    "      if(nrow(re) != 0) {\n",
    "          r_out <- data.frame(departure = re[,2], d_intensity = re[,3], arrival = re[,4], a_intensity = re[,6], \n",
    "                        propagation_time = re[,5], lift = r_out$lift)\n",
    "    \n",
    "          r_out <- na.omit(r_out)\n",
    "      }  \n",
    "        \n",
    "      r_out <- filter.rules(r_out)\n",
    "      \n",
    "      total <- total + nrow(r_out)  \n",
    "      \n",
    "      close(con)\n",
    "    } \n",
    "    \n",
    "    n_rules <- c(n_rules, total)\n",
    "  }\n",
    "  \n",
    "  return (n_rules)\n",
    "}"
   ]
  },
  {
   "cell_type": "markdown",
   "metadata": {},
   "source": [
    "The *support.calc* function shows a maximum curvature graph of the support values in relation to the number of rules.
    The *x* variable is the x-axis of this graph and represents the possible support values within the interval [1,n]. In our case,
   we set *n* as 10. The *y* varible is the y-axis of the graph and represents the total number of rules for the respective
   support value. With these two variables, the maximum curvature graph can be plotted."
   ]
  },
  {
   "cell_type": "code",
   "execution_count": 24,
   "metadata": {},
   "outputs": [
    {
     "data": {
      "image/png": "iVBORw0KGgoAAAANSUhEUgAAA0gAAANICAMAAADKOT/pAAAC2VBMVEUAAAABAQECAgIDAwME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",
      "text/plain": [
       "plot without title"
      ]
     },
     "metadata": {},
     "output_type": "display_data"
    }
   ],
   "source": [
    "support.calc <- function(n) {\n",
    "  x <- c(1:n)\n",
    "  y <- qtd.rules(x)\n",
    "  curvature.max(x, y) \n",
    "}\n",
    "\n",
    "support.calc(10)"
   ]
  },
  {
   "cell_type": "markdown",
   "metadata": {},
   "source": [
    "### Generate Association Rules"
    
    "The association rules are generated in the *generate.rules* function. The apriori algorithm is executed over the sliding
    windows on github. So, a connection to these files is needed. These sliding windows are already updated with the delay rates
    (low, medium and high). In addition, the support and confidence values used in the apriori algorithm were defined in previous
    sections. Finally, we apply the filtration over the generated association rules."
   ]
  },
  {
   "cell_type": "code",
   "execution_count": 9,
   "metadata": {},
   "outputs": [
    {
     "name": "stderr",
     "output_type": "stream",
     "text": [
      "Loading required package: tcltk\n"
     ]
    },
    {
     "name": "stdout",
     "output_type": "stream",
     "text": [
      "   departure d_intensity arrival a_intensity delay_time     lift\n",
      "1       sbgr        high    sbgr        high          1 1.946164\n",
      "2       sbgr        high    sbgr        high          2 1.774354\n",
      "3       sbgr        high    sbgr        high          3 1.655651\n",
      "4       sbgr        high    sbgr        high          4 1.638686\n",
      "5       sbgr        high    sbcf        high          2 1.567416\n",
      "6       sbgr        high    sbbr        high          2 1.558799\n",
      "7       sbgr        high    sbct        high          2 1.550724\n",
      "8       sbgr        high    sbsv        high          3 1.542406\n",
      "9       sbgr        high    sbgr        high          5 1.510946\n",
      "10      sbgr        high    sbct        high          3 1.483846\n",
      "11      sbgr        high    sbgl        high          2 1.455870\n",
      "12      sbgr        high    sbgl        high          3 1.441047\n",
      "13      sbgr        high    sbgl        high          4 1.365449\n",
      "14      sbgr        high    sbrf        high          4 1.357535\n",
      "15      sbgr        high    sbgl        high          5 1.346159\n"
     ]
    }
   ],
   "source": [
    "generate.rules <- function(airport) {\n",
    "  con <- url(paste(paste(data_url, \"windows/\", sep=\"\"), paste(airport, \".RData\", sep=\"\"), sep=\"\"))\n",
    "  load(con)\n",
    "  w_out <- data.frame(w_out)\n",
    "    \n",
    "  high <- paste(tolower(airport), \"_0=high\", sep=\"\")\n",
    "  \n",
    "  r_out <- apriori(w_out, parameter=list(supp = 0.08, conf = 0.25, minlen=2, maxlen= 2,target = \"rules\"), \n",
    "                   appearance=list(lhs = c(high), default = \"rhs\"), control=list(verbose=FALSE))\n",
    "  r_out <- as(r_out, \"data.frame\")\n",
    "  \n",
    "  re <- str_match(r_out$rules, \".(sb..)_.=(.*)......(sb..)_(.)=(.*).\")\n",
    "  \n",
    "  if(nrow(re) != 0) {\n",
    "    r_out <- data.frame(departure = re[,2], d_intensity = re[,3], arrival = re[,4], a_intensity = re[,6], \n",
    "                        propagation_time = re[,5], lift = r_out$lift)\n",
    "    \n",
    "    r_out <- na.omit(r_out)\n",
    "  }\n",
    "    \n",
    "  r_out <- filter.rules(r_out)  \n",
    "  \n",
    "  return (r_out)\n",
    "}\n",
    "\n",
    "air_rules <- generate.rules(airport)\n",
    "print(air_rules)"
   ]
  },
  {
   "cell_type": "markdown",
   "metadata": {},
   "source": [
    "## First Question - Are airports interconnected when a delay occurs?\n",
    "\n",
    "With the following code, we can answer the first question of our research. To approach this question, we want to verify if a delay from an airport *A* can propagate to an aiport *B*. So, we just need to verify if there is any propagation (association rules) from airport *A*, *SBGR*, to its destination airports."
   ]
  },
  {
   "cell_type": "code",
   "execution_count": 21,
   "metadata": {
    "collapsed": true
   },
   "outputs": [],
   "source": [
    "d_rules <- sqldf('SELECT * \n",
    "                  FROM air_rules \n",
    "                  WHERE departure != arrival')"
   ]
  },
  {
   "cell_type": "markdown",
   "metadata": {},
   "source": [
    "If there is at least one result in *d_rules*, it means that there is at least one propagation between these airports. To see it clearly, we select the departure and arrival airport and the lift between them in the following code.  "
   ]
  },
  {
   "cell_type": "code",
   "execution_count": 22,
   "metadata": {},
   "outputs": [
    {
     "name": "stdout",
     "output_type": "stream",
     "text": [
      "  departure arrival     lift\n",
      "2      sbgr    sbcf 1.567416\n",
      "1      sbgr    sbbr 1.558799\n",
      "6      sbgr    sbsv 1.542406\n",
      "3      sbgr    sbct 1.517285\n",
      "4      sbgr    sbgl 1.402131\n",
      "5      sbgr    sbrf 1.357535\n"
     ]
    }
   ],
   "source": [
    "if(nrow(d_rules) != 0) {  \n",
    "  d_rules <- sqldf('SELECT departure, arrival, avg(lift) as lift\n",
    "                    FROM d_rules\n",
    "                    GROUP BY arrival')\n",
    "  \n",
    "  d_rules <- d_rules[order(-d_rules$lift), ]\n",
    "}\n",
    "\n",
    "print(d_rules)"
   ]
  },
  {
   "cell_type": "markdown",
   "metadata": {},
   "source": [
    "This result answers the question why *SBGR* propagates their delays to other 6 different airports. Thus, airports are
    interconnected when a delay occurs."
   ]
  },
  {
   "cell_type": "markdown",
   "metadata": {},
   "source": [
    "## Second Question - How long after does a delay propagates between airports?
    
    "In order to answer this question, we must know how many hours after a delay in airport *A* (*SBGR*, in our case) propagates
    to its destination airports. In addition, we also want to know how many aiports are affected in each of these hours.
    The following code gives us the desired answers ."
   ]
  },
  {
   "cell_type": "code",
   "execution_count": 23,
   "metadata": {},
   "outputs": [
    {
     "name": "stdout",
     "output_type": "stream",
     "text": [
      "  delay_time qtd\n",
      "1          2   4\n",
      "2          3   3\n",
      "3          4   2\n",
      "4          5   1\n"
     ]
    }
   ],
   "source": [
    "d_rules <- sqldf('SELECT propagation_time, count(*) as qtd\n",
    "                    FROM air_rules \n",
    "                    WHERE departure != arrival\n",
    "                    GROUP BY propagation_time')\n",
    "\n",
    "print(d_rules)"
   ]
  },
  {
   "cell_type": "markdown",
   "metadata": {},
   "source": [
    "For example, the third tuple means that 2 different airports has a high delay rate after 4 hours a delay occurred at
    *SBGR* airport."
   ]
  },
  {
   "cell_type": "markdown",
   "metadata": {},
   "source": [
    "## Third Question - How does the propagation behave inside the airport itself?
    
    "To answer this last question, we analyze the rules where departures and arrivals in the airport are the same. In other words,
    we analyze the delay propragation inside the same airport. In addition, we check how many hours this propagation lasts and if
    an airport has an autopropagation. We also analyze the impact of other airports to maintain this propagation. This is the
    opposite analysis from the first question."
   ]
  },
  {
   "cell_type": "markdown",
   "metadata": {},
   "source": [
    "The code cell below prints a dataframe with the propagation time inside the same airport."
   ]
  },
  {
   "cell_type": "code",
   "execution_count": 1,
   "metadata": {},
   "outputs": [
    {
     "ename": "ERROR",
     "evalue": "Error in eval(expr, envir, enclos): não foi possível encontrar a função \"sqldf\"\n",
     "output_type": "error",
     "traceback": [
      "Error in eval(expr, envir, enclos): não foi possível encontrar a função \"sqldf\"\nTraceback:\n"
     ]
    }
   ],
   "source": [
    "autolift <- sqldf('SELECT departure, arrival, propagation_time\n",
    "                   FROM air_rules\n",
    "                   WHERE arrival = departure')\n",
    "\n",
    "print(autolift)"
   ]
  },
  {
   "cell_type": "markdown",
   "metadata": {},
   "source": [
    "Then we study the impact of other airports in the following code cell. First, it connects to github to get the list of distinct airports in our dataset, which is 17 airports. After that, the code iterates through these airports and generates their rules to select the ones where the arrival airport is the airport of interest (in our example, *SBGR*). Therefore, we can analyze the impact of other airports over the one we are analyzing, *SBGR*."
   ]
  },
  {
   "cell_type": "code",
   "execution_count": 33,
   "metadata": {},
   "outputs": [
    {
     "name": "stdout",
     "output_type": "stream",
     "text": [
      "  delay_time qtd\n",
      "1          2   5\n",
      "2          3   3\n",
      "3          4   2\n"
     ]
    }
   ],
   "source": [
    "result <- data.frame(departure = character(), d_intensity = character(), arrival = character(), a_intensity = character(), \n",
    "                     propagation_time = character(), lift = character())\n",
    "\n",
    "con <- url(paste(data_url, \"airports.RData\", sep=\"\"))\n",
    "load(con)\n",
    "close(con)\n",
    "\n",
    "for (i in 1:length(airports[,1])) {\n",
    "  if(airports[i,] != airport) {\n",
    "    d_rules <- generate.rules(airports[i,])\n",
    "    \n",
    "    if(nrow(d_rules) != 0) {\n",
    "      d_rules <- filter.rules(d_rules)\n",
    "      \n",
    "      d_rules <- sqldf(sprintf('SELECT * \n",
    "                    FROM d_rules \n",
    "                    WHERE arrival = \"%s\"', tolower(airport)))\n",
    "      \n",
    "      result <- rbind(result, d_rules)\n",
    "    }\n",
    "  }\n",
    "}\n",
    "\n",
    "result <- sqldf('SELECT propagation_time, count(*) as qtd\n",
    "                    FROM result \n",
    "                    GROUP BY propagation_time')\n",
    "\n",
    "print(result)"
   ]
  },
  {
   "cell_type": "markdown",
   "metadata": {},
   "source": [
    "Therefore, we can answer this question saying that *SBGR* has an autopropagation from 1 to 5 hours (first result in this section)
    of duration. Also, 5 other airports also propagate their delays two hours later to *SBGR*, helping it to maintain its autopropagation
    (second result in this section)."
   ]
  }
 ],
 "metadata": {
  "kernelspec": {
   "display_name": "R",
   "language": "R",
   "name": "ir"
  },
  "language_info": {
   "codemirror_mode": "r",
   "file_extension": ".r",
   "mimetype": "text/x-r-source",
   "name": "R",
   "pygments_lexer": "r",
   "version": "3.3.3"
  }
 },
 "nbformat": 4,
 "nbformat_minor": 2
}
